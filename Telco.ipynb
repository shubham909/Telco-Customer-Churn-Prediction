{
 "cells": [
  {
   "cell_type": "markdown",
   "metadata": {},
   "source": [
    "# Telco Customer Churn Prediction\n",
    "In this notebook we explored a telco data set with interactive analysis followed by various classification models and Artificial Neural Network(ANN). The notebook is divided into two main sections as follows;\n",
    "\n",
    "1. Exploratory Data Analysis\n",
    "2. Classification Models and ANN\n",
    "\n",
    "By finding what factors are influencing the churn in the organisation we can improve customer retention.\n",
    "\n",
    "**Note:** Dataset is taken from IBM Watson Analytics Blog"
   ]
  },
  {
   "cell_type": "code",
   "execution_count": 1,
   "metadata": {},
   "outputs": [],
   "source": [
    "# Part 1 - Data Preprocessing\n",
    "\n",
    "# Importing the libraries\n",
    "import numpy as np\n",
    "import matplotlib.pyplot as plt\n",
    "import pandas as pd\n",
    "import seaborn as sns"
   ]
  },
  {
   "cell_type": "code",
   "execution_count": 2,
   "metadata": {},
   "outputs": [],
   "source": [
    "# Importing the dataset\n",
    "dataset = pd.read_csv('./data/Telco-Customer-Churn.csv')"
   ]
  },
  {
   "cell_type": "code",
   "execution_count": 3,
   "metadata": {},
   "outputs": [
    {
     "data": {
      "text/html": [
       "<div>\n",
       "<style scoped>\n",
       "    .dataframe tbody tr th:only-of-type {\n",
       "        vertical-align: middle;\n",
       "    }\n",
       "\n",
       "    .dataframe tbody tr th {\n",
       "        vertical-align: top;\n",
       "    }\n",
       "\n",
       "    .dataframe thead th {\n",
       "        text-align: right;\n",
       "    }\n",
       "</style>\n",
       "<table border=\"1\" class=\"dataframe\">\n",
       "  <thead>\n",
       "    <tr style=\"text-align: right;\">\n",
       "      <th></th>\n",
       "      <th>customerID</th>\n",
       "      <th>gender</th>\n",
       "      <th>SeniorCitizen</th>\n",
       "      <th>Partner</th>\n",
       "      <th>Dependents</th>\n",
       "      <th>tenure</th>\n",
       "      <th>PhoneService</th>\n",
       "      <th>MultipleLines</th>\n",
       "      <th>InternetService</th>\n",
       "      <th>OnlineSecurity</th>\n",
       "      <th>...</th>\n",
       "      <th>DeviceProtection</th>\n",
       "      <th>TechSupport</th>\n",
       "      <th>StreamingTV</th>\n",
       "      <th>StreamingMovies</th>\n",
       "      <th>Contract</th>\n",
       "      <th>PaperlessBilling</th>\n",
       "      <th>PaymentMethod</th>\n",
       "      <th>MonthlyCharges</th>\n",
       "      <th>TotalCharges</th>\n",
       "      <th>Churn</th>\n",
       "    </tr>\n",
       "  </thead>\n",
       "  <tbody>\n",
       "    <tr>\n",
       "      <th>0</th>\n",
       "      <td>7590-VHVEG</td>\n",
       "      <td>Female</td>\n",
       "      <td>0</td>\n",
       "      <td>Yes</td>\n",
       "      <td>No</td>\n",
       "      <td>1</td>\n",
       "      <td>No</td>\n",
       "      <td>No phone service</td>\n",
       "      <td>DSL</td>\n",
       "      <td>No</td>\n",
       "      <td>...</td>\n",
       "      <td>No</td>\n",
       "      <td>No</td>\n",
       "      <td>No</td>\n",
       "      <td>No</td>\n",
       "      <td>Month-to-month</td>\n",
       "      <td>Yes</td>\n",
       "      <td>Electronic check</td>\n",
       "      <td>29.85</td>\n",
       "      <td>29.85</td>\n",
       "      <td>No</td>\n",
       "    </tr>\n",
       "    <tr>\n",
       "      <th>1</th>\n",
       "      <td>5575-GNVDE</td>\n",
       "      <td>Male</td>\n",
       "      <td>0</td>\n",
       "      <td>No</td>\n",
       "      <td>No</td>\n",
       "      <td>34</td>\n",
       "      <td>Yes</td>\n",
       "      <td>No</td>\n",
       "      <td>DSL</td>\n",
       "      <td>Yes</td>\n",
       "      <td>...</td>\n",
       "      <td>Yes</td>\n",
       "      <td>No</td>\n",
       "      <td>No</td>\n",
       "      <td>No</td>\n",
       "      <td>One year</td>\n",
       "      <td>No</td>\n",
       "      <td>Mailed check</td>\n",
       "      <td>56.95</td>\n",
       "      <td>1889.5</td>\n",
       "      <td>No</td>\n",
       "    </tr>\n",
       "    <tr>\n",
       "      <th>2</th>\n",
       "      <td>3668-QPYBK</td>\n",
       "      <td>Male</td>\n",
       "      <td>0</td>\n",
       "      <td>No</td>\n",
       "      <td>No</td>\n",
       "      <td>2</td>\n",
       "      <td>Yes</td>\n",
       "      <td>No</td>\n",
       "      <td>DSL</td>\n",
       "      <td>Yes</td>\n",
       "      <td>...</td>\n",
       "      <td>No</td>\n",
       "      <td>No</td>\n",
       "      <td>No</td>\n",
       "      <td>No</td>\n",
       "      <td>Month-to-month</td>\n",
       "      <td>Yes</td>\n",
       "      <td>Mailed check</td>\n",
       "      <td>53.85</td>\n",
       "      <td>108.15</td>\n",
       "      <td>Yes</td>\n",
       "    </tr>\n",
       "    <tr>\n",
       "      <th>3</th>\n",
       "      <td>7795-CFOCW</td>\n",
       "      <td>Male</td>\n",
       "      <td>0</td>\n",
       "      <td>No</td>\n",
       "      <td>No</td>\n",
       "      <td>45</td>\n",
       "      <td>No</td>\n",
       "      <td>No phone service</td>\n",
       "      <td>DSL</td>\n",
       "      <td>Yes</td>\n",
       "      <td>...</td>\n",
       "      <td>Yes</td>\n",
       "      <td>Yes</td>\n",
       "      <td>No</td>\n",
       "      <td>No</td>\n",
       "      <td>One year</td>\n",
       "      <td>No</td>\n",
       "      <td>Bank transfer (automatic)</td>\n",
       "      <td>42.30</td>\n",
       "      <td>1840.75</td>\n",
       "      <td>No</td>\n",
       "    </tr>\n",
       "    <tr>\n",
       "      <th>4</th>\n",
       "      <td>9237-HQITU</td>\n",
       "      <td>Female</td>\n",
       "      <td>0</td>\n",
       "      <td>No</td>\n",
       "      <td>No</td>\n",
       "      <td>2</td>\n",
       "      <td>Yes</td>\n",
       "      <td>No</td>\n",
       "      <td>Fiber optic</td>\n",
       "      <td>No</td>\n",
       "      <td>...</td>\n",
       "      <td>No</td>\n",
       "      <td>No</td>\n",
       "      <td>No</td>\n",
       "      <td>No</td>\n",
       "      <td>Month-to-month</td>\n",
       "      <td>Yes</td>\n",
       "      <td>Electronic check</td>\n",
       "      <td>70.70</td>\n",
       "      <td>151.65</td>\n",
       "      <td>Yes</td>\n",
       "    </tr>\n",
       "    <tr>\n",
       "      <th>5</th>\n",
       "      <td>9305-CDSKC</td>\n",
       "      <td>Female</td>\n",
       "      <td>0</td>\n",
       "      <td>No</td>\n",
       "      <td>No</td>\n",
       "      <td>8</td>\n",
       "      <td>Yes</td>\n",
       "      <td>Yes</td>\n",
       "      <td>Fiber optic</td>\n",
       "      <td>No</td>\n",
       "      <td>...</td>\n",
       "      <td>Yes</td>\n",
       "      <td>No</td>\n",
       "      <td>Yes</td>\n",
       "      <td>Yes</td>\n",
       "      <td>Month-to-month</td>\n",
       "      <td>Yes</td>\n",
       "      <td>Electronic check</td>\n",
       "      <td>99.65</td>\n",
       "      <td>820.5</td>\n",
       "      <td>Yes</td>\n",
       "    </tr>\n",
       "    <tr>\n",
       "      <th>6</th>\n",
       "      <td>1452-KIOVK</td>\n",
       "      <td>Male</td>\n",
       "      <td>0</td>\n",
       "      <td>No</td>\n",
       "      <td>Yes</td>\n",
       "      <td>22</td>\n",
       "      <td>Yes</td>\n",
       "      <td>Yes</td>\n",
       "      <td>Fiber optic</td>\n",
       "      <td>No</td>\n",
       "      <td>...</td>\n",
       "      <td>No</td>\n",
       "      <td>No</td>\n",
       "      <td>Yes</td>\n",
       "      <td>No</td>\n",
       "      <td>Month-to-month</td>\n",
       "      <td>Yes</td>\n",
       "      <td>Credit card (automatic)</td>\n",
       "      <td>89.10</td>\n",
       "      <td>1949.4</td>\n",
       "      <td>No</td>\n",
       "    </tr>\n",
       "    <tr>\n",
       "      <th>7</th>\n",
       "      <td>6713-OKOMC</td>\n",
       "      <td>Female</td>\n",
       "      <td>0</td>\n",
       "      <td>No</td>\n",
       "      <td>No</td>\n",
       "      <td>10</td>\n",
       "      <td>No</td>\n",
       "      <td>No phone service</td>\n",
       "      <td>DSL</td>\n",
       "      <td>Yes</td>\n",
       "      <td>...</td>\n",
       "      <td>No</td>\n",
       "      <td>No</td>\n",
       "      <td>No</td>\n",
       "      <td>No</td>\n",
       "      <td>Month-to-month</td>\n",
       "      <td>No</td>\n",
       "      <td>Mailed check</td>\n",
       "      <td>29.75</td>\n",
       "      <td>301.9</td>\n",
       "      <td>No</td>\n",
       "    </tr>\n",
       "    <tr>\n",
       "      <th>8</th>\n",
       "      <td>7892-POOKP</td>\n",
       "      <td>Female</td>\n",
       "      <td>0</td>\n",
       "      <td>Yes</td>\n",
       "      <td>No</td>\n",
       "      <td>28</td>\n",
       "      <td>Yes</td>\n",
       "      <td>Yes</td>\n",
       "      <td>Fiber optic</td>\n",
       "      <td>No</td>\n",
       "      <td>...</td>\n",
       "      <td>Yes</td>\n",
       "      <td>Yes</td>\n",
       "      <td>Yes</td>\n",
       "      <td>Yes</td>\n",
       "      <td>Month-to-month</td>\n",
       "      <td>Yes</td>\n",
       "      <td>Electronic check</td>\n",
       "      <td>104.80</td>\n",
       "      <td>3046.05</td>\n",
       "      <td>Yes</td>\n",
       "    </tr>\n",
       "    <tr>\n",
       "      <th>9</th>\n",
       "      <td>6388-TABGU</td>\n",
       "      <td>Male</td>\n",
       "      <td>0</td>\n",
       "      <td>No</td>\n",
       "      <td>Yes</td>\n",
       "      <td>62</td>\n",
       "      <td>Yes</td>\n",
       "      <td>No</td>\n",
       "      <td>DSL</td>\n",
       "      <td>Yes</td>\n",
       "      <td>...</td>\n",
       "      <td>No</td>\n",
       "      <td>No</td>\n",
       "      <td>No</td>\n",
       "      <td>No</td>\n",
       "      <td>One year</td>\n",
       "      <td>No</td>\n",
       "      <td>Bank transfer (automatic)</td>\n",
       "      <td>56.15</td>\n",
       "      <td>3487.95</td>\n",
       "      <td>No</td>\n",
       "    </tr>\n",
       "  </tbody>\n",
       "</table>\n",
       "<p>10 rows × 21 columns</p>\n",
       "</div>"
      ],
      "text/plain": [
       "   customerID  gender  SeniorCitizen Partner Dependents  tenure PhoneService  \\\n",
       "0  7590-VHVEG  Female              0     Yes         No       1           No   \n",
       "1  5575-GNVDE    Male              0      No         No      34          Yes   \n",
       "2  3668-QPYBK    Male              0      No         No       2          Yes   \n",
       "3  7795-CFOCW    Male              0      No         No      45           No   \n",
       "4  9237-HQITU  Female              0      No         No       2          Yes   \n",
       "5  9305-CDSKC  Female              0      No         No       8          Yes   \n",
       "6  1452-KIOVK    Male              0      No        Yes      22          Yes   \n",
       "7  6713-OKOMC  Female              0      No         No      10           No   \n",
       "8  7892-POOKP  Female              0     Yes         No      28          Yes   \n",
       "9  6388-TABGU    Male              0      No        Yes      62          Yes   \n",
       "\n",
       "      MultipleLines InternetService OnlineSecurity  ...  DeviceProtection  \\\n",
       "0  No phone service             DSL             No  ...                No   \n",
       "1                No             DSL            Yes  ...               Yes   \n",
       "2                No             DSL            Yes  ...                No   \n",
       "3  No phone service             DSL            Yes  ...               Yes   \n",
       "4                No     Fiber optic             No  ...                No   \n",
       "5               Yes     Fiber optic             No  ...               Yes   \n",
       "6               Yes     Fiber optic             No  ...                No   \n",
       "7  No phone service             DSL            Yes  ...                No   \n",
       "8               Yes     Fiber optic             No  ...               Yes   \n",
       "9                No             DSL            Yes  ...                No   \n",
       "\n",
       "  TechSupport StreamingTV StreamingMovies        Contract PaperlessBilling  \\\n",
       "0          No          No              No  Month-to-month              Yes   \n",
       "1          No          No              No        One year               No   \n",
       "2          No          No              No  Month-to-month              Yes   \n",
       "3         Yes          No              No        One year               No   \n",
       "4          No          No              No  Month-to-month              Yes   \n",
       "5          No         Yes             Yes  Month-to-month              Yes   \n",
       "6          No         Yes              No  Month-to-month              Yes   \n",
       "7          No          No              No  Month-to-month               No   \n",
       "8         Yes         Yes             Yes  Month-to-month              Yes   \n",
       "9          No          No              No        One year               No   \n",
       "\n",
       "               PaymentMethod MonthlyCharges  TotalCharges Churn  \n",
       "0           Electronic check          29.85         29.85    No  \n",
       "1               Mailed check          56.95        1889.5    No  \n",
       "2               Mailed check          53.85        108.15   Yes  \n",
       "3  Bank transfer (automatic)          42.30       1840.75    No  \n",
       "4           Electronic check          70.70        151.65   Yes  \n",
       "5           Electronic check          99.65         820.5   Yes  \n",
       "6    Credit card (automatic)          89.10        1949.4    No  \n",
       "7               Mailed check          29.75         301.9    No  \n",
       "8           Electronic check         104.80       3046.05   Yes  \n",
       "9  Bank transfer (automatic)          56.15       3487.95    No  \n",
       "\n",
       "[10 rows x 21 columns]"
      ]
     },
     "execution_count": 3,
     "metadata": {},
     "output_type": "execute_result"
    }
   ],
   "source": [
    "dataset.head(10)"
   ]
  },
  {
   "cell_type": "code",
   "execution_count": 4,
   "metadata": {},
   "outputs": [],
   "source": [
    "del dataset['customerID']\n",
    "dataset['Churn'].replace(['No','Yes'],['0','1'], inplace = True)\n",
    "dataset['TotalCharges'].replace(' ', np.nan, inplace=True)\n",
    "dataset = dataset.dropna(axis=0, subset=['TotalCharges'], how = 'all')"
   ]
  },
  {
   "cell_type": "markdown",
   "metadata": {},
   "source": [
    "## Exploratory Data Analysis"
   ]
  },
  {
   "cell_type": "code",
   "execution_count": 5,
   "metadata": {},
   "outputs": [
    {
     "data": {
      "text/html": [
       "<div>\n",
       "<style scoped>\n",
       "    .dataframe tbody tr th:only-of-type {\n",
       "        vertical-align: middle;\n",
       "    }\n",
       "\n",
       "    .dataframe tbody tr th {\n",
       "        vertical-align: top;\n",
       "    }\n",
       "\n",
       "    .dataframe thead th {\n",
       "        text-align: right;\n",
       "    }\n",
       "</style>\n",
       "<table border=\"1\" class=\"dataframe\">\n",
       "  <thead>\n",
       "    <tr style=\"text-align: right;\">\n",
       "      <th></th>\n",
       "      <th>tenure</th>\n",
       "      <th>MonthlyCharges</th>\n",
       "    </tr>\n",
       "  </thead>\n",
       "  <tbody>\n",
       "    <tr>\n",
       "      <th>count</th>\n",
       "      <td>7032.000000</td>\n",
       "      <td>7032.000000</td>\n",
       "    </tr>\n",
       "    <tr>\n",
       "      <th>mean</th>\n",
       "      <td>32.421786</td>\n",
       "      <td>64.798208</td>\n",
       "    </tr>\n",
       "    <tr>\n",
       "      <th>std</th>\n",
       "      <td>24.545260</td>\n",
       "      <td>30.085974</td>\n",
       "    </tr>\n",
       "    <tr>\n",
       "      <th>min</th>\n",
       "      <td>1.000000</td>\n",
       "      <td>18.250000</td>\n",
       "    </tr>\n",
       "    <tr>\n",
       "      <th>25%</th>\n",
       "      <td>9.000000</td>\n",
       "      <td>35.587500</td>\n",
       "    </tr>\n",
       "    <tr>\n",
       "      <th>50%</th>\n",
       "      <td>29.000000</td>\n",
       "      <td>70.350000</td>\n",
       "    </tr>\n",
       "    <tr>\n",
       "      <th>75%</th>\n",
       "      <td>55.000000</td>\n",
       "      <td>89.862500</td>\n",
       "    </tr>\n",
       "    <tr>\n",
       "      <th>max</th>\n",
       "      <td>72.000000</td>\n",
       "      <td>118.750000</td>\n",
       "    </tr>\n",
       "  </tbody>\n",
       "</table>\n",
       "</div>"
      ],
      "text/plain": [
       "            tenure  MonthlyCharges\n",
       "count  7032.000000     7032.000000\n",
       "mean     32.421786       64.798208\n",
       "std      24.545260       30.085974\n",
       "min       1.000000       18.250000\n",
       "25%       9.000000       35.587500\n",
       "50%      29.000000       70.350000\n",
       "75%      55.000000       89.862500\n",
       "max      72.000000      118.750000"
      ]
     },
     "execution_count": 5,
     "metadata": {},
     "output_type": "execute_result"
    }
   ],
   "source": [
    "dataset[['tenure','MonthlyCharges']].describe()"
   ]
  },
  {
   "cell_type": "code",
   "execution_count": 6,
   "metadata": {},
   "outputs": [
    {
     "data": {
      "image/png": "[encoded data removed]",
      "text/plain": [
       "<Figure size 1152x720 with 2 Axes>"
      ]
     },
     "metadata": {},
     "output_type": "display_data"
    }
   ],
   "source": [
    "sns.set(font_scale=1)\n",
    "mask = np.zeros_like(dataset.corr())\n",
    "mask[np.triu_indices_from(mask)] = True\n",
    "with sns.axes_style(\"white\"):\n",
    "    plt.figure(figsize=(16,10))\n",
    "    ax = sns.heatmap(dataset.corr(), cmap='viridis', mask=mask, vmax=.3, square=True, annot=True)"
   ]
  },
  {
   "cell_type": "markdown",
   "metadata": {},
   "source": [
    "####  Both in case of senior citizens and in general, we can see that if monthly charges are higher the tenure is lower."
   ]
  },
  {
   "cell_type": "code",
   "execution_count": 7,
   "metadata": {},
   "outputs": [
    {
     "data": {
      "text/html": [
       "<div>\n",
       "<style scoped>\n",
       "    .dataframe tbody tr th:only-of-type {\n",
       "        vertical-align: middle;\n",
       "    }\n",
       "\n",
       "    .dataframe tbody tr th {\n",
       "        vertical-align: top;\n",
       "    }\n",
       "\n",
       "    .dataframe thead th {\n",
       "        text-align: right;\n",
       "    }\n",
       "</style>\n",
       "<table border=\"1\" class=\"dataframe\">\n",
       "  <thead>\n",
       "    <tr style=\"text-align: right;\">\n",
       "      <th></th>\n",
       "      <th>tenure</th>\n",
       "      <th>MonthlyCharges</th>\n",
       "    </tr>\n",
       "  </thead>\n",
       "  <tbody>\n",
       "    <tr>\n",
       "      <th>count</th>\n",
       "      <td>476.000000</td>\n",
       "      <td>476.000000</td>\n",
       "    </tr>\n",
       "    <tr>\n",
       "      <th>mean</th>\n",
       "      <td>21.033613</td>\n",
       "      <td>80.713445</td>\n",
       "    </tr>\n",
       "    <tr>\n",
       "      <th>std</th>\n",
       "      <td>19.791410</td>\n",
       "      <td>21.007886</td>\n",
       "    </tr>\n",
       "    <tr>\n",
       "      <th>min</th>\n",
       "      <td>1.000000</td>\n",
       "      <td>19.450000</td>\n",
       "    </tr>\n",
       "    <tr>\n",
       "      <th>25%</th>\n",
       "      <td>3.000000</td>\n",
       "      <td>73.625000</td>\n",
       "    </tr>\n",
       "    <tr>\n",
       "      <th>50%</th>\n",
       "      <td>15.000000</td>\n",
       "      <td>84.825000</td>\n",
       "    </tr>\n",
       "    <tr>\n",
       "      <th>75%</th>\n",
       "      <td>35.000000</td>\n",
       "      <td>95.712500</td>\n",
       "    </tr>\n",
       "    <tr>\n",
       "      <th>max</th>\n",
       "      <td>72.000000</td>\n",
       "      <td>117.450000</td>\n",
       "    </tr>\n",
       "  </tbody>\n",
       "</table>\n",
       "</div>"
      ],
      "text/plain": [
       "           tenure  MonthlyCharges\n",
       "count  476.000000      476.000000\n",
       "mean    21.033613       80.713445\n",
       "std     19.791410       21.007886\n",
       "min      1.000000       19.450000\n",
       "25%      3.000000       73.625000\n",
       "50%     15.000000       84.825000\n",
       "75%     35.000000       95.712500\n",
       "max     72.000000      117.450000"
      ]
     },
     "execution_count": 7,
     "metadata": {},
     "output_type": "execute_result"
    }
   ],
   "source": [
    "Q= pd.DataFrame(dataset[(dataset.SeniorCitizen == 1) & (dataset.Churn == '1')])\n",
    "Q[['tenure','MonthlyCharges','Churn']].describe()"
   ]
  },
  {
   "cell_type": "code",
   "execution_count": 8,
   "metadata": {},
   "outputs": [
    {
     "data": {
      "text/html": [
       "<div>\n",
       "<style scoped>\n",
       "    .dataframe tbody tr th:only-of-type {\n",
       "        vertical-align: middle;\n",
       "    }\n",
       "\n",
       "    .dataframe tbody tr th {\n",
       "        vertical-align: top;\n",
       "    }\n",
       "\n",
       "    .dataframe thead th {\n",
       "        text-align: right;\n",
       "    }\n",
       "</style>\n",
       "<table border=\"1\" class=\"dataframe\">\n",
       "  <thead>\n",
       "    <tr style=\"text-align: right;\">\n",
       "      <th></th>\n",
       "      <th>tenure</th>\n",
       "      <th>MonthlyCharges</th>\n",
       "    </tr>\n",
       "  </thead>\n",
       "  <tbody>\n",
       "    <tr>\n",
       "      <th>count</th>\n",
       "      <td>1869.000000</td>\n",
       "      <td>1869.000000</td>\n",
       "    </tr>\n",
       "    <tr>\n",
       "      <th>mean</th>\n",
       "      <td>17.979133</td>\n",
       "      <td>74.441332</td>\n",
       "    </tr>\n",
       "    <tr>\n",
       "      <th>std</th>\n",
       "      <td>19.531123</td>\n",
       "      <td>24.666053</td>\n",
       "    </tr>\n",
       "    <tr>\n",
       "      <th>min</th>\n",
       "      <td>1.000000</td>\n",
       "      <td>18.850000</td>\n",
       "    </tr>\n",
       "    <tr>\n",
       "      <th>25%</th>\n",
       "      <td>2.000000</td>\n",
       "      <td>56.150000</td>\n",
       "    </tr>\n",
       "    <tr>\n",
       "      <th>50%</th>\n",
       "      <td>10.000000</td>\n",
       "      <td>79.650000</td>\n",
       "    </tr>\n",
       "    <tr>\n",
       "      <th>75%</th>\n",
       "      <td>29.000000</td>\n",
       "      <td>94.200000</td>\n",
       "    </tr>\n",
       "    <tr>\n",
       "      <th>max</th>\n",
       "      <td>72.000000</td>\n",
       "      <td>118.350000</td>\n",
       "    </tr>\n",
       "  </tbody>\n",
       "</table>\n",
       "</div>"
      ],
      "text/plain": [
       "            tenure  MonthlyCharges\n",
       "count  1869.000000     1869.000000\n",
       "mean     17.979133       74.441332\n",
       "std      19.531123       24.666053\n",
       "min       1.000000       18.850000\n",
       "25%       2.000000       56.150000\n",
       "50%      10.000000       79.650000\n",
       "75%      29.000000       94.200000\n",
       "max      72.000000      118.350000"
      ]
     },
     "execution_count": 8,
     "metadata": {},
     "output_type": "execute_result"
    }
   ],
   "source": [
    "S= pd.DataFrame(dataset[(dataset.Churn == '1' )])\n",
    "S[['tenure','MonthlyCharges','Churn']].describe()"
   ]
  },
  {
   "cell_type": "code",
   "execution_count": 9,
   "metadata": {},
   "outputs": [
    {
     "data": {
      "text/plain": [
       "<seaborn.axisgrid.FacetGrid at 0x205a33adb00>"
      ]
     },
     "execution_count": 9,
     "metadata": {},
     "output_type": "execute_result"
    },
    {
     "data": {
      "image/png": "[encoded data removed]",
      "text/plain": [
       "<Figure size 357.375x288 with 1 Axes>"
      ]
     },
     "metadata": {},
     "output_type": "display_data"
    }
   ],
   "source": [
    "sns.factorplot('Churn', data = dataset, kind = 'count',hue = 'gender')"
   ]
  },
  {
   "cell_type": "code",
   "execution_count": 10,
   "metadata": {},
   "outputs": [
    {
     "data": {
      "text/plain": [
       "<seaborn.axisgrid.FacetGrid at 0x205a33addd8>"
      ]
     },
     "execution_count": 10,
     "metadata": {},
     "output_type": "execute_result"
    },
    {
     "data": {
      "image/png": "[encoded data removed]",
      "text/plain": [
       "<Figure size 341.25x288 with 1 Axes>"
      ]
     },
     "metadata": {},
     "output_type": "display_data"
    }
   ],
   "source": [
    "sns.factorplot('Churn', data = dataset, kind = 'count',hue = 'Partner')"
   ]
  },
  {
   "cell_type": "code",
   "execution_count": 11,
   "metadata": {},
   "outputs": [
    {
     "data": {
      "text/plain": [
       "<seaborn.axisgrid.FacetGrid at 0x205a340dcc0>"
      ]
     },
     "execution_count": 11,
     "metadata": {},
     "output_type": "execute_result"
    },
    {
     "data": {
      "image/png": "[encoded data removed]",
      "text/plain": [
       "<Figure size 905.625x216 with 1 Axes>"
      ]
     },
     "metadata": {},
     "output_type": "display_data"
    }
   ],
   "source": [
    "# Another way to visualize the data is to use FacetGrid to plot multiple kedplots on one plot\n",
    "\n",
    "fig = sns.FacetGrid(dataset, hue=\"Churn\",aspect=4)\n",
    "fig.map(sns.kdeplot,'tenure',shade= True)\n",
    "max_tenure = dataset['tenure'].max()\n",
    "fig.set(xlim=(0,max_tenure))\n",
    "fig.add_legend()"
   ]
  },
  {
   "cell_type": "code",
   "execution_count": 12,
   "metadata": {},
   "outputs": [
    {
     "data": {
      "text/plain": [
       "<seaborn.axisgrid.FacetGrid at 0x205a34a9630>"
      ]
     },
     "execution_count": 12,
     "metadata": {},
     "output_type": "execute_result"
    },
    {
     "data": {
      "image/png": "[encoded data removed]",
      "text/plain": [
       "<Figure size 437.375x288 with 1 Axes>"
      ]
     },
     "metadata": {},
     "output_type": "display_data"
    }
   ],
   "source": [
    "sns.factorplot('Churn', data = dataset, kind = 'count',hue = 'PaymentMethod')"
   ]
  },
  {
   "cell_type": "code",
   "execution_count": 13,
   "metadata": {},
   "outputs": [
    {
     "data": {
      "text/plain": [
       "<seaborn.axisgrid.FacetGrid at 0x205a349acf8>"
      ]
     },
     "execution_count": 13,
     "metadata": {},
     "output_type": "execute_result"
    },
    {
     "data": {
      "image/png": "[encoded data removed]",
      "text/plain": [
       "<Figure size 395.25x288 with 1 Axes>"
      ]
     },
     "metadata": {},
     "output_type": "display_data"
    }
   ],
   "source": [
    "sns.factorplot('Churn', data = dataset, kind = 'count',hue = 'Contract')"
   ]
  },
  {
   "cell_type": "code",
   "execution_count": 14,
   "metadata": {},
   "outputs": [
    {
     "data": {
      "text/plain": [
       "<seaborn.axisgrid.FacetGrid at 0x205a3546d68>"
      ]
     },
     "execution_count": 14,
     "metadata": {},
     "output_type": "execute_result"
    },
    {
     "data": {
      "image/png": "[encoded data removed]",
      "text/plain": [
       "<Figure size 288x288 with 1 Axes>"
      ]
     },
     "metadata": {},
     "output_type": "display_data"
    }
   ],
   "source": [
    "sns.factorplot('Churn','MonthlyCharges', data = dataset, kind = 'violin')"
   ]
  },
  {
   "cell_type": "markdown",
   "metadata": {},
   "source": [
    "#### From above analysis we can see that the key parameters are *Tenure, Monthly Charges and Contract*."
   ]
  },
  {
   "cell_type": "markdown",
   "metadata": {},
   "source": [
    "## Classification Models and ANN\n",
    "Used Naive Bayes and Random Forest Classifier. Finally, applied ANN by finding the principal components using PCA which explains the most variance in the dataset. \n",
    "\n",
    "Accuracy- \n",
    "          * Naive Bayes    ≈ 67%\n",
    "          * Random Forest  ≈ 78%\n",
    "          * ANN            ≈ 81%"
   ]
  },
  {
   "cell_type": "code",
   "execution_count": 15,
   "metadata": {},
   "outputs": [],
   "source": [
    "# Encoding categorical data\n",
    "X = dataset\n",
    "X = pd.get_dummies(X,columns =['gender','Partner','Contract','Dependents','PhoneService','OnlineBackup','DeviceProtection','MultipleLines','TechSupport','StreamingTV','StreamingMovies','PaperlessBilling','PaymentMethod','InternetService','OnlineSecurity'], drop_first=True)\n",
    "X = X.astype('float')\n",
    "y = X.iloc[:, 4].values\n",
    "del X['Churn']"
   ]
  },
  {
   "cell_type": "code",
   "execution_count": 16,
   "metadata": {},
   "outputs": [],
   "source": [
    "# Splitting the dataset into the Training set and Test set\n",
    "from sklearn.model_selection import train_test_split\n",
    "X_train, X_test, y_train, y_test = train_test_split(X, y, test_size = 0.2, random_state = 0)"
   ]
  },
  {
   "cell_type": "code",
   "execution_count": 17,
   "metadata": {},
   "outputs": [],
   "source": [
    "# Feature Scaling\n",
    "from sklearn.preprocessing import StandardScaler\n",
    "sc = StandardScaler()\n",
    "X_train = sc.fit_transform(X_train)\n",
    "X_test = sc.transform(X_test)"
   ]
  },
  {
   "cell_type": "code",
   "execution_count": 18,
   "metadata": {},
   "outputs": [
    {
     "data": {
      "text/plain": [
       "array([[616, 422],\n",
       "       [ 49, 320]], dtype=int64)"
      ]
     },
     "execution_count": 18,
     "metadata": {},
     "output_type": "execute_result"
    }
   ],
   "source": [
    "# Fitting Naive Bayes to the Training set\n",
    "from sklearn.naive_bayes import GaussianNB\n",
    "bayes_classifier = GaussianNB()\n",
    "bayes_classifier.fit(X_train, y_train)\n",
    "\n",
    "# Predicting the Test set results\n",
    "y_pred = bayes_classifier.predict(X_test)\n",
    "\n",
    "# Making the Confusion Matrix\n",
    "from sklearn.metrics import confusion_matrix\n",
    "confusion_matrix(y_test, y_pred)"
   ]
  },
  {
   "cell_type": "code",
   "execution_count": 19,
   "metadata": {},
   "outputs": [
    {
     "data": {
      "text/plain": [
       "array([[945,  93],\n",
       "       [203, 166]], dtype=int64)"
      ]
     },
     "execution_count": 19,
     "metadata": {},
     "output_type": "execute_result"
    }
   ],
   "source": [
    "# Fitting Random Forest Classification to the Training set\n",
    "from sklearn.ensemble import RandomForestClassifier\n",
    "random_classifier = RandomForestClassifier(n_estimators = 10, criterion = 'entropy', random_state = 0)\n",
    "random_classifier.fit(X_train, y_train)\n",
    "\n",
    "# Predicting the Test set results\n",
    "y_pred = random_classifier.predict(X_test)\n",
    "\n",
    "# Making the Confusion Matrix\n",
    "from sklearn.metrics import confusion_matrix\n",
    "confusion_matrix(y_test, y_pred)"
   ]
  },
  {
   "cell_type": "code",
   "execution_count": 20,
   "metadata": {},
   "outputs": [],
   "source": [
    "# Applying PCA\n",
    "from sklearn.decomposition import PCA\n",
    "pca = PCA(n_components = None)\n",
    "X_train = pca.fit_transform(X_train)\n",
    "X_test = pca.transform(X_test)\n",
    "explained_variance = pca.explained_variance_ratio_"
   ]
  },
  {
   "cell_type": "code",
   "execution_count": 21,
   "metadata": {},
   "outputs": [
    {
     "data": {
      "text/plain": [
       "[<matplotlib.lines.Line2D at 0x26e4c2945c0>]"
      ]
     },
     "execution_count": 21,
     "metadata": {},
     "output_type": "execute_result"
    },
    {
     "data": {
      "image/png": "[encoded data removed]",
      "text/plain": [
       "<Figure size 432x288 with 1 Axes>"
      ]
     },
     "metadata": {},
     "output_type": "display_data"
    }
   ],
   "source": [
    "# Cumulative Variance explains\n",
    "var=np.cumsum(np.round(pca.explained_variance_ratio_, decimals=4)*100)\n",
    "plt.plot(var)"
   ]
  },
  {
   "cell_type": "code",
   "execution_count": 22,
   "metadata": {},
   "outputs": [],
   "source": [
    "# Applying PCA with 18 components\n",
    "from sklearn.decomposition import PCA\n",
    "pca = PCA(n_components = 18)\n",
    "X_train = pca.fit_transform(X_train)\n",
    "X_test = pca.transform(X_test)\n",
    "explained_variance = pca.explained_variance_ratio_"
   ]
  },
  {
   "cell_type": "code",
   "execution_count": 23,
   "metadata": {},
   "outputs": [
    {
     "data": {
      "text/plain": [
       "[<matplotlib.lines.Line2D at 0x26e4c2f5748>]"
      ]
     },
     "execution_count": 23,
     "metadata": {},
     "output_type": "execute_result"
    },
    {
     "data": {
      "image/png": "[encoded data removed]",
      "text/plain": [
       "<Figure size 432x288 with 1 Axes>"
      ]
     },
     "metadata": {},
     "output_type": "display_data"
    }
   ],
   "source": [
    "# Cumulative Variance explains\n",
    "var=np.cumsum(np.round(pca.explained_variance_ratio_, decimals=4)*100)\n",
    "plt.plot(var)"
   ]
  },
  {
   "cell_type": "code",
   "execution_count": 24,
   "metadata": {},
   "outputs": [
    {
     "name": "stderr",
     "output_type": "stream",
     "text": [
      "C:\\Users\\Shubham\\Anaconda3\\lib\\site-packages\\h5py\\__init__.py:36: FutureWarning: Conversion of the second argument of issubdtype from `float` to `np.floating` is deprecated. In future, it will be treated as `np.float64 == np.dtype(float).type`.\n",
      "  from ._conv import register_converters as _register_converters\n",
      "Using TensorFlow backend.\n"
     ]
    }
   ],
   "source": [
    "# Importing the Keras libraries and packages\n",
    "import keras\n",
    "from keras.models import Sequential\n",
    "from keras.layers import Dense"
   ]
  },
  {
   "cell_type": "code",
   "execution_count": 25,
   "metadata": {},
   "outputs": [
    {
     "name": "stderr",
     "output_type": "stream",
     "text": [
      "C:\\Users\\Shubham\\Anaconda3\\lib\\site-packages\\ipykernel_launcher.py:5: UserWarning: Update your `Dense` call to the Keras 2 API: `Dense(activation=\"relu\", input_dim=18, units=10, kernel_initializer=\"uniform\")`\n",
      "  \"\"\"\n",
      "C:\\Users\\Shubham\\Anaconda3\\lib\\site-packages\\ipykernel_launcher.py:8: UserWarning: Update your `Dense` call to the Keras 2 API: `Dense(activation=\"relu\", units=12, kernel_initializer=\"uniform\")`\n",
      "  \n",
      "C:\\Users\\Shubham\\Anaconda3\\lib\\site-packages\\ipykernel_launcher.py:11: UserWarning: Update your `Dense` call to the Keras 2 API: `Dense(activation=\"sigmoid\", units=1, kernel_initializer=\"uniform\")`\n",
      "  # This is added back by InteractiveShellApp.init_path()\n"
     ]
    },
    {
     "name": "stdout",
     "output_type": "stream",
     "text": [
      "Epoch 1/100\n",
      "5625/5625 [==============================] - 1s 202us/step - loss: 0.5026 - acc: 0.7319\n",
      "Epoch 2/100\n",
      "5625/5625 [==============================] - 1s 150us/step - loss: 0.4409 - acc: 0.7730\n",
      "Epoch 3/100\n",
      "5625/5625 [==============================] - 1s 158us/step - loss: 0.4351 - acc: 0.7980\n",
      "Epoch 4/100\n",
      "5625/5625 [==============================] - 1s 170us/step - loss: 0.4327 - acc: 0.7989\n",
      "Epoch 5/100\n",
      "5625/5625 [==============================] - 1s 161us/step - loss: 0.4285 - acc: 0.8009 0s - loss: 0.4349 -\n",
      "Epoch 6/100\n",
      "5625/5625 [==============================] - 1s 169us/step - loss: 0.4271 - acc: 0.8034\n",
      "Epoch 7/100\n",
      "5625/5625 [==============================] - 1s 170us/step - loss: 0.4245 - acc: 0.8060\n",
      "Epoch 8/100\n",
      "5625/5625 [==============================] - 1s 161us/step - loss: 0.4232 - acc: 0.8023\n",
      "Epoch 9/100\n",
      "5625/5625 [==============================] - 1s 149us/step - loss: 0.4215 - acc: 0.8069\n",
      "Epoch 10/100\n",
      "5625/5625 [==============================] - 1s 159us/step - loss: 0.4205 - acc: 0.8066\n",
      "Epoch 11/100\n",
      "5625/5625 [==============================] - 1s 162us/step - loss: 0.4195 - acc: 0.8014\n",
      "Epoch 12/100\n",
      "5625/5625 [==============================] - 1s 168us/step - loss: 0.4188 - acc: 0.8052\n",
      "Epoch 13/100\n",
      "5625/5625 [==============================] - 1s 158us/step - loss: 0.4178 - acc: 0.8044\n",
      "Epoch 14/100\n",
      "5625/5625 [==============================] - 1s 161us/step - loss: 0.4166 - acc: 0.8073\n",
      "Epoch 15/100\n",
      "5625/5625 [==============================] - 1s 170us/step - loss: 0.4166 - acc: 0.8053\n",
      "Epoch 16/100\n",
      "5625/5625 [==============================] - 1s 170us/step - loss: 0.4153 - acc: 0.8073\n",
      "Epoch 17/100\n",
      "5625/5625 [==============================] - 1s 167us/step - loss: 0.4151 - acc: 0.8059\n",
      "Epoch 18/100\n",
      "5625/5625 [==============================] - 1s 165us/step - loss: 0.4148 - acc: 0.8050 0s - loss: 0.4064 - \n",
      "Epoch 19/100\n",
      "5625/5625 [==============================] - 1s 167us/step - loss: 0.4139 - acc: 0.8062\n",
      "Epoch 20/100\n",
      "5625/5625 [==============================] - 1s 168us/step - loss: 0.4134 - acc: 0.8084\n",
      "Epoch 21/100\n",
      "5625/5625 [==============================] - 1s 169us/step - loss: 0.4133 - acc: 0.8044\n",
      "Epoch 22/100\n",
      "5625/5625 [==============================] - 1s 173us/step - loss: 0.4128 - acc: 0.8046\n",
      "Epoch 23/100\n",
      "5625/5625 [==============================] - 1s 184us/step - loss: 0.4125 - acc: 0.8032\n",
      "Epoch 24/100\n",
      "5625/5625 [==============================] - 1s 188us/step - loss: 0.4126 - acc: 0.8071\n",
      "Epoch 25/100\n",
      "5625/5625 [==============================] - 1s 157us/step - loss: 0.4123 - acc: 0.8073\n",
      "Epoch 26/100\n",
      "5625/5625 [==============================] - 1s 160us/step - loss: 0.4117 - acc: 0.8057\n",
      "Epoch 27/100\n",
      "5625/5625 [==============================] - 1s 157us/step - loss: 0.4117 - acc: 0.8069\n",
      "Epoch 28/100\n",
      "5625/5625 [==============================] - 1s 153us/step - loss: 0.4108 - acc: 0.8069\n",
      "Epoch 29/100\n",
      "5625/5625 [==============================] - 1s 160us/step - loss: 0.4109 - acc: 0.8071\n",
      "Epoch 30/100\n",
      "5625/5625 [==============================] - 1s 161us/step - loss: 0.4102 - acc: 0.8075\n",
      "Epoch 31/100\n",
      "5625/5625 [==============================] - 1s 171us/step - loss: 0.4105 - acc: 0.8055\n",
      "Epoch 32/100\n",
      "5625/5625 [==============================] - 1s 161us/step - loss: 0.4103 - acc: 0.8060\n",
      "Epoch 33/100\n",
      "5625/5625 [==============================] - 1s 160us/step - loss: 0.4097 - acc: 0.8053\n",
      "Epoch 34/100\n",
      "5625/5625 [==============================] - 1s 161us/step - loss: 0.4094 - acc: 0.8052\n",
      "Epoch 35/100\n",
      "5625/5625 [==============================] - 1s 172us/step - loss: 0.4090 - acc: 0.8068\n",
      "Epoch 36/100\n",
      "5625/5625 [==============================] - 1s 161us/step - loss: 0.4089 - acc: 0.8101\n",
      "Epoch 37/100\n",
      "5625/5625 [==============================] - 1s 169us/step - loss: 0.4089 - acc: 0.8060\n",
      "Epoch 38/100\n",
      "5625/5625 [==============================] - 1s 154us/step - loss: 0.4086 - acc: 0.8066\n",
      "Epoch 39/100\n",
      "5625/5625 [==============================] - 1s 152us/step - loss: 0.4086 - acc: 0.8055\n",
      "Epoch 40/100\n",
      "5625/5625 [==============================] - 1s 167us/step - loss: 0.4072 - acc: 0.8084\n",
      "Epoch 41/100\n",
      "5625/5625 [==============================] - 1s 178us/step - loss: 0.4079 - acc: 0.8085\n",
      "Epoch 42/100\n",
      "5625/5625 [==============================] - 1s 177us/step - loss: 0.4079 - acc: 0.8119 0s - loss: 0.4066 - acc: 0\n",
      "Epoch 43/100\n",
      "5625/5625 [==============================] - 1s 176us/step - loss: 0.4064 - acc: 0.8105\n",
      "Epoch 44/100\n",
      "5625/5625 [==============================] - 1s 156us/step - loss: 0.4079 - acc: 0.8052\n",
      "Epoch 45/100\n",
      "5625/5625 [==============================] - 1s 156us/step - loss: 0.4070 - acc: 0.8101\n",
      "Epoch 46/100\n",
      "5625/5625 [==============================] - 1s 168us/step - loss: 0.4063 - acc: 0.8108\n",
      "Epoch 47/100\n",
      "5625/5625 [==============================] - 1s 163us/step - loss: 0.4059 - acc: 0.8121\n",
      "Epoch 48/100\n",
      "5625/5625 [==============================] - 1s 166us/step - loss: 0.4071 - acc: 0.8091\n",
      "Epoch 49/100\n",
      "5625/5625 [==============================] - 1s 162us/step - loss: 0.4062 - acc: 0.8092\n",
      "Epoch 50/100\n",
      "5625/5625 [==============================] - 1s 155us/step - loss: 0.4062 - acc: 0.8073\n",
      "Epoch 51/100\n",
      "5625/5625 [==============================] - 1s 156us/step - loss: 0.4063 - acc: 0.8085 0s - loss: 0.4117\n",
      "Epoch 52/100\n",
      "5625/5625 [==============================] - 1s 162us/step - loss: 0.4062 - acc: 0.8075 0s - loss: 0.4079 \n",
      "Epoch 53/100\n",
      "5625/5625 [==============================] - 1s 155us/step - loss: 0.4055 - acc: 0.8096\n",
      "Epoch 54/100\n",
      "5625/5625 [==============================] - 1s 157us/step - loss: 0.4048 - acc: 0.8110\n",
      "Epoch 55/100\n",
      "5625/5625 [==============================] - 1s 180us/step - loss: 0.4054 - acc: 0.8096\n",
      "Epoch 56/100\n",
      "5625/5625 [==============================] - 1s 196us/step - loss: 0.4044 - acc: 0.8100 0s - loss: 0.3951\n",
      "Epoch 57/100\n",
      "5625/5625 [==============================] - 1s 198us/step - loss: 0.4051 - acc: 0.8080\n",
      "Epoch 58/100\n",
      "5625/5625 [==============================] - 1s 204us/step - loss: 0.4050 - acc: 0.8091\n",
      "Epoch 59/100\n",
      "5625/5625 [==============================] - 1s 146us/step - loss: 0.4053 - acc: 0.8096\n",
      "Epoch 60/100\n",
      "5625/5625 [==============================] - 1s 152us/step - loss: 0.4047 - acc: 0.8105\n",
      "Epoch 61/100\n",
      "5625/5625 [==============================] - 1s 136us/step - loss: 0.4044 - acc: 0.8123\n",
      "Epoch 62/100\n",
      "5625/5625 [==============================] - 1s 148us/step - loss: 0.4039 - acc: 0.8126\n",
      "Epoch 63/100\n",
      "5625/5625 [==============================] - 1s 146us/step - loss: 0.4042 - acc: 0.8094\n",
      "Epoch 64/100\n",
      "5625/5625 [==============================] - 1s 159us/step - loss: 0.4040 - acc: 0.8112\n",
      "Epoch 65/100\n",
      "5625/5625 [==============================] - 1s 156us/step - loss: 0.4043 - acc: 0.8121\n",
      "Epoch 66/100\n",
      "5625/5625 [==============================] - 1s 137us/step - loss: 0.4045 - acc: 0.8091\n",
      "Epoch 67/100\n",
      "5625/5625 [==============================] - 1s 136us/step - loss: 0.4047 - acc: 0.8085\n",
      "Epoch 68/100\n",
      "5625/5625 [==============================] - 1s 139us/step - loss: 0.4039 - acc: 0.8076\n",
      "Epoch 69/100\n",
      "5625/5625 [==============================] - 1s 148us/step - loss: 0.4043 - acc: 0.8084\n",
      "Epoch 70/100\n",
      "5625/5625 [==============================] - 1s 140us/step - loss: 0.4041 - acc: 0.8108\n",
      "Epoch 71/100\n",
      "5625/5625 [==============================] - 1s 143us/step - loss: 0.4040 - acc: 0.8085\n",
      "Epoch 72/100\n",
      "5625/5625 [==============================] - 1s 142us/step - loss: 0.4031 - acc: 0.8116\n",
      "Epoch 73/100\n",
      "5625/5625 [==============================] - 1s 139us/step - loss: 0.4038 - acc: 0.8052\n",
      "Epoch 74/100\n",
      "5625/5625 [==============================] - 1s 140us/step - loss: 0.4034 - acc: 0.8126\n",
      "Epoch 75/100\n",
      "5625/5625 [==============================] - 1s 139us/step - loss: 0.4036 - acc: 0.8096\n",
      "Epoch 76/100\n",
      "5625/5625 [==============================] - 1s 142us/step - loss: 0.4031 - acc: 0.8094\n",
      "Epoch 77/100\n",
      "5625/5625 [==============================] - 1s 142us/step - loss: 0.4034 - acc: 0.8094\n",
      "Epoch 78/100\n",
      "5625/5625 [==============================] - 1s 177us/step - loss: 0.4035 - acc: 0.8096\n",
      "Epoch 79/100\n",
      "5625/5625 [==============================] - 1s 191us/step - loss: 0.4033 - acc: 0.8066 0s - loss: 0.4008 - acc: 0.8\n",
      "Epoch 80/100\n",
      "5625/5625 [==============================] - 1s 197us/step - loss: 0.4031 - acc: 0.8112\n",
      "Epoch 81/100\n",
      "5625/5625 [==============================] - 1s 144us/step - loss: 0.4023 - acc: 0.8121\n",
      "Epoch 82/100\n",
      "5625/5625 [==============================] - 1s 149us/step - loss: 0.4028 - acc: 0.8114\n",
      "Epoch 83/100\n",
      "5625/5625 [==============================] - 1s 135us/step - loss: 0.4035 - acc: 0.8078 0s - loss: 0.4085 - \n",
      "Epoch 84/100\n",
      "5625/5625 [==============================] - 1s 135us/step - loss: 0.4029 - acc: 0.8100\n",
      "Epoch 85/100\n",
      "5625/5625 [==============================] - 1s 133us/step - loss: 0.4025 - acc: 0.8094\n",
      "Epoch 86/100\n",
      "5625/5625 [==============================] - 1s 156us/step - loss: 0.4025 - acc: 0.8117\n",
      "Epoch 87/100\n",
      "5625/5625 [==============================] - 1s 140us/step - loss: 0.4023 - acc: 0.8132\n",
      "Epoch 88/100\n",
      "5625/5625 [==============================] - 1s 137us/step - loss: 0.4017 - acc: 0.8123\n",
      "Epoch 89/100\n",
      "5625/5625 [==============================] - 1s 135us/step - loss: 0.4019 - acc: 0.8089\n",
      "Epoch 90/100\n",
      "5625/5625 [==============================] - 1s 136us/step - loss: 0.4015 - acc: 0.8126\n",
      "Epoch 91/100\n",
      "5625/5625 [==============================] - 1s 138us/step - loss: 0.4017 - acc: 0.8101\n",
      "Epoch 92/100\n",
      "5625/5625 [==============================] - 1s 134us/step - loss: 0.4016 - acc: 0.8108\n",
      "Epoch 93/100\n",
      "5625/5625 [==============================] - 1s 145us/step - loss: 0.4020 - acc: 0.8076\n",
      "Epoch 94/100\n",
      "5625/5625 [==============================] - 1s 141us/step - loss: 0.4013 - acc: 0.8114\n",
      "Epoch 95/100\n",
      "5625/5625 [==============================] - 1s 137us/step - loss: 0.4013 - acc: 0.8112\n",
      "Epoch 96/100\n",
      "5625/5625 [==============================] - 1s 156us/step - loss: 0.4010 - acc: 0.8110 0s - loss: 0.4022 - acc: 0.81\n",
      "Epoch 97/100\n",
      "5625/5625 [==============================] - 1s 183us/step - loss: 0.4011 - acc: 0.8126 0s - loss: 0.3909\n",
      "Epoch 98/100\n",
      "5625/5625 [==============================] - 1s 180us/step - loss: 0.4002 - acc: 0.8085\n",
      "Epoch 99/100\n",
      "5625/5625 [==============================] - 1s 172us/step - loss: 0.4002 - acc: 0.8116 0s - loss: 0.383\n",
      "Epoch 100/100\n",
      "5625/5625 [==============================] - 1s 206us/step - loss: 0.4003 - acc: 0.8096\n"
     ]
    },
    {
     "data": {
      "text/plain": [
       "<keras.callbacks.History at 0x26e52771eb8>"
      ]
     },
     "execution_count": 25,
     "metadata": {},
     "output_type": "execute_result"
    }
   ],
   "source": [
    "# Initialising the ANN\n",
    "classifier = Sequential()\n",
    "\n",
    "# Adding the input layer and the first hidden layer\n",
    "classifier.add(Dense(output_dim = 10, init = 'uniform', activation = 'relu', input_dim = 18))\n",
    "\n",
    "# Adding the second hidden layer\n",
    "classifier.add(Dense(output_dim = 12, init = 'uniform', activation = 'relu'))\n",
    "\n",
    "# Adding the output layer\n",
    "classifier.add(Dense(output_dim = 1, init = 'uniform', activation = 'sigmoid'))\n",
    "\n",
    "# Compiling the ANN\n",
    "classifier.compile(optimizer = 'adam', loss = 'binary_crossentropy', metrics = ['accuracy'])\n",
    "\n",
    "# Fitting the ANN to the Training set\n",
    "classifier.fit(X_train, y_train, batch_size = 10, epochs = 100)\n"
   ]
  },
  {
   "cell_type": "code",
   "execution_count": 26,
   "metadata": {},
   "outputs": [],
   "source": [
    "# Predicting the Test set results\n",
    "y_pred = classifier.predict(X_test)\n",
    "y_pred = (y_pred > 0.5)"
   ]
  },
  {
   "cell_type": "code",
   "execution_count": 27,
   "metadata": {},
   "outputs": [
    {
     "data": {
      "text/plain": [
       "array([[934, 104],\n",
       "       [179, 190]], dtype=int64)"
      ]
     },
     "execution_count": 27,
     "metadata": {},
     "output_type": "execute_result"
    }
   ],
   "source": [
    "# Making the Confusion Matrix\n",
    "from sklearn.metrics import confusion_matrix\n",
    "confusion_matrix(y_test, y_pred)"
   ]
  }
 ],
 "metadata": {
  "kernelspec": {
   "display_name": "Python 3",
   "language": "python",
   "name": "python3"
  },
  "language_info": {
   "codemirror_mode": {
    "name": "ipython",
    "version": 3
   },
   "file_extension": ".py",
   "mimetype": "text/x-python",
   "name": "python",
   "nbconvert_exporter": "python",
   "pygments_lexer": "ipython3",
   "version": "3.6.4"
  }
 },
 "nbformat": 4,
 "nbformat_minor": 2
}
